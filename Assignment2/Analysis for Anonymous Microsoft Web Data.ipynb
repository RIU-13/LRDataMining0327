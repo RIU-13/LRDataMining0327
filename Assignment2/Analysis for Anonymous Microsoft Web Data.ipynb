{
 "cells": [
  {
   "cell_type": "markdown",
   "id": "d42ff036",
   "metadata": {},
   "source": [
    "# 网页浏览行为关联规则挖掘\n",
    "## 数据集介绍\n",
    "[Anonymous Microsoft Web Data](http://archive.ics.uci.edu/ml/datasets/Anonymous+Microsoft+Web+Data) \n",
    "该数据集记录了 38000 名随机选择的匿名用户对 www.microsoft.com 的使用情况<br>\n",
    "网站的一个域称为vroot<br>\n",
    "### 数据示例\n",
    "1. 'A,1277,1,\"NetShow for PowerPoint\",\"/stream\"’<br>\n",
    "A表示是属性行，1277是该域的ID，netshow for powerpoint是title，/stream是URL;<br>\n",
    "2. C,\"10164\",10164<br>\n",
    "   V,1123,1<br>\n",
    "   V,1009,1<br>\n",
    "   V,1052,1<br>\n",
    "C表示是案例行，10164是一个使用者的案例的ID，V表示是这个案例的vote行；1123，1009,1052是某个使用者拜访的域属性ID，即表示用户10164拜访的域有1123,1009,1052<br>\n",
    "\n",
    "## 数据预处理: 清洗数据，处理缺失值，提取用户浏览记录。\n",
    "根据数据集介绍可知本数据集不存在缺失值<br>\n",
    "数据预处理过程如下，其中attr存储了各Vroot的属性，user存储了每个用户访问记录，userID存储了每个用户对应的ID，vis字典存储了各Vroot被访问的次数"
   ]
  },
  {
   "cell_type": "code",
   "execution_count": 1,
   "id": "50fd3e6c",
   "metadata": {},
   "outputs": [
    {
     "name": "stdout",
     "output_type": "stream",
     "text": [
      "data has finished\n"
     ]
    }
   ],
   "source": [
    "import pandas as pd\n",
    "import numpy as np\n",
    "from mlxtend.preprocessing import TransactionEncoder#编码\n",
    "from mlxtend.frequent_patterns import apriori#Apriori\n",
    "from mlxtend.frequent_patterns import association_rules#导入关联规则包\n",
    "\n",
    "fpath = \"./anonymous-msweb.data\"\n",
    "attr = {}\n",
    "vis={}\n",
    "user = []\n",
    "usrID = []\n",
    "fp  =  open(fpath,\"r\")\n",
    "fp.seek(0,0)\n",
    "subline=\"\"\n",
    "canread = True\n",
    "while  True:\n",
    "    if canread:\n",
    "        line  =  fp.readline()\n",
    "    else:\n",
    "        line = subline\n",
    "    x = line.strip().split(',')\n",
    "    if x[0] == 'A':#属性行\n",
    "        lattr = []\n",
    "        attr[x[1]]=x[3]\n",
    "        vis[x[1]] = 0#将访问次数初始化为0\n",
    "\n",
    "    elif x[0]=='C':\n",
    "        luser=[]\n",
    "        usrID.append(x[2])\n",
    "        while True:\n",
    "            subline = fp.readline()\n",
    "            subx = subline.strip().split(',')\n",
    "            if subx[0] == 'V':\n",
    "                luser.append(subx[1])\n",
    "                vis[subx[1]]+=1\n",
    "                #print(luser)\n",
    "            else:\n",
    "                user.append(luser)\n",
    "     \n",
    "                canread = False\n",
    "                break\n",
    "    # If line is empty then end of file reached\n",
    "    if  not  line  :\n",
    "        break;\n",
    "\n",
    "fp.close()\n",
    "print(\"data has finished\")"
   ]
  },
  {
   "cell_type": "markdown",
   "id": "2008c240",
   "metadata": {},
   "source": [
    "## 数据探索性分析\n",
    "分析最常被访问的页面、页面访问量分布\n"
   ]
  },
  {
   "cell_type": "code",
   "execution_count": 2,
   "id": "913654d6",
   "metadata": {},
   "outputs": [
    {
     "name": "stdout",
     "output_type": "stream",
     "text": [
      "最常被访问的页面是\"Free Downloads\",被访问次数是10836\n",
      "对访问次数的可能取值及频数分析如下：\n",
      "1       21\n",
      "3       12\n",
      "4       11\n",
      "2       10\n",
      "0        9\n",
      "        ..\n",
      "548      1\n",
      "521      1\n",
      "8463     1\n",
      "1500     1\n",
      "291      1\n",
      "Name: num, Length: 168, dtype: int64\n",
      "页面被访问次数的最小值为0.0,第一四分位数为8.25,中位数为43.5,第三四分位数为182.5,最大值为10836.0\n"
     ]
    }
   ],
   "source": [
    "max_p = max(zip(vis.values(), vis.keys()))\n",
    "print(\"最常被访问的页面是%s,被访问次数是%d\"%(attr[max_p[1]],max_p[0]))\n",
    "dc = pd.DataFrame.from_dict(vis, orient='index',columns=['num'])\n",
    "dc = dc.reset_index().rename(columns = {'index':'id'})\n",
    "print(\"对访问次数的可能取值及频数分析如下：\")\n",
    "print(dc['num'].value_counts())\n",
    "des = dc['num'].describe()\n",
    "des_min = des['min']\n",
    "des_q1 = des['25%']\n",
    "des_median = des['50%']\n",
    "des_q3 = des['75%']\n",
    "des_max = des['max']\n",
    "print(\"页面被访问次数的最小值为{},第一四分位数为{},中位数为{},第三四分位数为{},最大值为{}\".format(des_min,des_q1,des_median,des_q3,des_max))"
   ]
  },
  {
   "cell_type": "markdown",
   "id": "7c4bed20",
   "metadata": {},
   "source": [
    "## 关联规则挖掘和结果评估: \n",
    "使用Apriori算法，根据用户浏览记录计算频繁项集和关联规则。使用mlxtend包中的association_rules方法，设置支持度阈值和置信度阈值后，会默认计算关联规则的支持度、置信度和提升度。"
   ]
  },
  {
   "cell_type": "code",
   "execution_count": 3,
   "id": "7ddabffc",
   "metadata": {},
   "outputs": [
    {
     "name": "stdout",
     "output_type": "stream",
     "text": [
      "start analysis\n",
      "当阈值设置为0.05时的频繁项集如下：\n",
      "     support      itemsets\n",
      "3   0.331265        (1008)\n",
      "9   0.286845        (1034)\n",
      "2   0.258720        (1004)\n",
      "6   0.162942        (1018)\n",
      "18  0.160802  (1008, 1034)\n",
      "5   0.156155        (1017)\n",
      "4   0.141481        (1009)\n",
      "0   0.136070        (1001)\n",
      "8   0.098438        (1026)\n",
      "1   0.090734        (1003)\n",
      "15  0.077925  (1008, 1009)\n",
      "17  0.073064  (1008, 1018)\n",
      "7   0.064902        (1025)\n",
      "16  0.061233  (1008, 1017)\n",
      "13  0.060438  (1008, 1004)\n",
      "12  0.059430  (1001, 1018)\n",
      "11  0.055211  (1001, 1003)\n",
      "10  0.054752        (1035)\n",
      "14  0.053285  (1004, 1034)\n"
     ]
    }
   ],
   "source": [
    "\n",
    "print(\"start analysis\")\n",
    "te = TransactionEncoder()\n",
    "#进行 one-hot 编码\n",
    "\n",
    "tf = te.fit_transform(user)\n",
    "df = pd.DataFrame(tf,columns=te.columns_)\n",
    "freq = apriori(df, min_support=0.05, use_colnames=True).sort_values(by='support', ascending=False)\n",
    "print(\"当阈值设置为0.05时的频繁项集如下：\")\n",
    "print(freq)"
   ]
  },
  {
   "cell_type": "code",
   "execution_count": 4,
   "id": "e8afd7c8",
   "metadata": {},
   "outputs": [
    {
     "name": "stdout",
     "output_type": "stream",
     "text": [
      "支持度阈值为0.03，置信度阈值设为0.4时，关联规则及其支持度、置信度和提升度如下：\n",
      "  antecedents consequents  antecedent support  consequent support   support  \\\n",
      "0      (1008)      (1034)            0.331265            0.286845  0.160802   \n",
      "1      (1034)      (1008)            0.286845            0.331265  0.160802   \n",
      "2      (1009)      (1008)            0.141481            0.331265  0.077925   \n",
      "3      (1018)      (1008)            0.162942            0.331265  0.073064   \n",
      "4      (1001)      (1018)            0.136070            0.162942  0.059430   \n",
      "5      (1001)      (1003)            0.136070            0.090734  0.055211   \n",
      "6      (1003)      (1001)            0.090734            0.136070  0.055211   \n",
      "\n",
      "   confidence      lift  zhangs_metric  \n",
      "0    0.485419  1.692267       0.611717  \n",
      "1    0.560588  1.692267       0.573616  \n",
      "2    0.550778  1.662652       0.464231  \n",
      "3    0.448405  1.353616       0.312091  \n",
      "4    0.436756  2.680435       0.725668  \n",
      "5    0.405752  4.471879       0.898662  \n",
      "6    0.608491  4.471879       0.853854  \n"
     ]
    }
   ],
   "source": [
    "rules =  association_rules(freq,metric ='confidence',min_threshold = 0.4)\n",
    "rules = rules.drop(['leverage','conviction'],axis = 1)\n",
    "print(\"支持度阈值为0.03，置信度阈值设为0.4时，关联规则及其支持度、置信度和提升度如下：\")\n",
    "print(rules)"
   ]
  },
  {
   "cell_type": "code",
   "execution_count": 5,
   "id": "e22acd96",
   "metadata": {},
   "outputs": [
    {
     "name": "stdout",
     "output_type": "stream",
     "text": [
      "\"Free Downloads\" ⇒ \"Internet Explorer\" (支持度是 = 0.160802, 置信度是 = 0.485419 )\n",
      "\"Internet Explorer\" ⇒ \"Free Downloads\" (支持度是 = 0.160802, 置信度是 = 0.560588 )\n",
      "\"Windows Family of OSs\" ⇒ \"Free Downloads\" (支持度是 = 0.077925, 置信度是 = 0.550778 )\n",
      "\"isapi\" ⇒ \"Free Downloads\" (支持度是 = 0.073064, 置信度是 = 0.448405 )\n",
      "\"Support Desktop\" ⇒ \"isapi\" (支持度是 = 0.059430, 置信度是 = 0.436756 )\n",
      "\"Support Desktop\" ⇒ \"Knowledge Base\" (支持度是 = 0.055211, 置信度是 = 0.405752 )\n",
      "\"Knowledge Base\" ⇒ \"Support Desktop\" (支持度是 = 0.055211, 置信度是 = 0.608491 )\n"
     ]
    }
   ],
   "source": [
    "for index, row in rules.iterrows():\n",
    "    #print(row)\n",
    "    t1 = next(iter(row['antecedents']))\n",
    "    t2 = next(iter(row['consequents']))\n",
    "    print(\"%s ⇒ %s (支持度是 = %f, 置信度是 = %f )\"%(attr[t1],attr[t2],row['support'],row['confidence']))"
   ]
  },
  {
   "cell_type": "markdown",
   "id": "7f06f078",
   "metadata": {},
   "source": [
    "以上列出的为支持度阈值设置为0.03，置信度阈值设置为0.4时的强关联规则"
   ]
  },
  {
   "cell_type": "markdown",
   "id": "6dac9b65",
   "metadata": {},
   "source": [
    "## 规则评价\n",
    "这里使用提升度Lift和全置信度allconf。提升度Lift已经在上面的计算过程中展示了，下面将计算全置信度："
   ]
  },
  {
   "cell_type": "code",
   "execution_count": 6,
   "id": "9ffe5dbb",
   "metadata": {},
   "outputs": [
    {
     "data": {
      "text/html": [
       "<div>\n",
       "<style scoped>\n",
       "    .dataframe tbody tr th:only-of-type {\n",
       "        vertical-align: middle;\n",
       "    }\n",
       "\n",
       "    .dataframe tbody tr th {\n",
       "        vertical-align: top;\n",
       "    }\n",
       "\n",
       "    .dataframe thead th {\n",
       "        text-align: right;\n",
       "    }\n",
       "</style>\n",
       "<table border=\"1\" class=\"dataframe\">\n",
       "  <thead>\n",
       "    <tr style=\"text-align: right;\">\n",
       "      <th></th>\n",
       "      <th>antecedents</th>\n",
       "      <th>consequents</th>\n",
       "      <th>support</th>\n",
       "      <th>confidence</th>\n",
       "      <th>lift</th>\n",
       "      <th>zhangs_metric</th>\n",
       "      <th>allconf</th>\n",
       "    </tr>\n",
       "  </thead>\n",
       "  <tbody>\n",
       "    <tr>\n",
       "      <th>0</th>\n",
       "      <td>(1008)</td>\n",
       "      <td>(1034)</td>\n",
       "      <td>0.160802</td>\n",
       "      <td>0.485419</td>\n",
       "      <td>1.692267</td>\n",
       "      <td>0.611717</td>\n",
       "      <td>0.485419</td>\n",
       "    </tr>\n",
       "    <tr>\n",
       "      <th>1</th>\n",
       "      <td>(1034)</td>\n",
       "      <td>(1008)</td>\n",
       "      <td>0.160802</td>\n",
       "      <td>0.560588</td>\n",
       "      <td>1.692267</td>\n",
       "      <td>0.573616</td>\n",
       "      <td>0.485419</td>\n",
       "    </tr>\n",
       "    <tr>\n",
       "      <th>2</th>\n",
       "      <td>(1009)</td>\n",
       "      <td>(1008)</td>\n",
       "      <td>0.077925</td>\n",
       "      <td>0.550778</td>\n",
       "      <td>1.662652</td>\n",
       "      <td>0.464231</td>\n",
       "      <td>0.235234</td>\n",
       "    </tr>\n",
       "    <tr>\n",
       "      <th>3</th>\n",
       "      <td>(1018)</td>\n",
       "      <td>(1008)</td>\n",
       "      <td>0.073064</td>\n",
       "      <td>0.448405</td>\n",
       "      <td>1.353616</td>\n",
       "      <td>0.312091</td>\n",
       "      <td>0.220561</td>\n",
       "    </tr>\n",
       "    <tr>\n",
       "      <th>4</th>\n",
       "      <td>(1001)</td>\n",
       "      <td>(1018)</td>\n",
       "      <td>0.059430</td>\n",
       "      <td>0.436756</td>\n",
       "      <td>2.680435</td>\n",
       "      <td>0.725668</td>\n",
       "      <td>0.364728</td>\n",
       "    </tr>\n",
       "    <tr>\n",
       "      <th>5</th>\n",
       "      <td>(1001)</td>\n",
       "      <td>(1003)</td>\n",
       "      <td>0.055211</td>\n",
       "      <td>0.405752</td>\n",
       "      <td>4.471879</td>\n",
       "      <td>0.898662</td>\n",
       "      <td>0.405752</td>\n",
       "    </tr>\n",
       "    <tr>\n",
       "      <th>6</th>\n",
       "      <td>(1003)</td>\n",
       "      <td>(1001)</td>\n",
       "      <td>0.055211</td>\n",
       "      <td>0.608491</td>\n",
       "      <td>4.471879</td>\n",
       "      <td>0.853854</td>\n",
       "      <td>0.405752</td>\n",
       "    </tr>\n",
       "  </tbody>\n",
       "</table>\n",
       "</div>"
      ],
      "text/plain": [
       "  antecedents consequents   support  confidence      lift  zhangs_metric  \\\n",
       "0      (1008)      (1034)  0.160802    0.485419  1.692267       0.611717   \n",
       "1      (1034)      (1008)  0.160802    0.560588  1.692267       0.573616   \n",
       "2      (1009)      (1008)  0.077925    0.550778  1.662652       0.464231   \n",
       "3      (1018)      (1008)  0.073064    0.448405  1.353616       0.312091   \n",
       "4      (1001)      (1018)  0.059430    0.436756  2.680435       0.725668   \n",
       "5      (1001)      (1003)  0.055211    0.405752  4.471879       0.898662   \n",
       "6      (1003)      (1001)  0.055211    0.608491  4.471879       0.853854   \n",
       "\n",
       "    allconf  \n",
       "0  0.485419  \n",
       "1  0.485419  \n",
       "2  0.235234  \n",
       "3  0.220561  \n",
       "4  0.364728  \n",
       "5  0.405752  \n",
       "6  0.405752  "
      ]
     },
     "execution_count": 6,
     "metadata": {},
     "output_type": "execute_result"
    }
   ],
   "source": [
    "def allconf(x):\n",
    "    return x.support/max(x['antecedent support'],x['consequent support'])\n",
    "allconf_list = []\n",
    "for index, row in rules.iterrows():\n",
    "    allconf_list.append(allconf(row))\n",
    "rules['allconf'] = allconf_list\n",
    "rules.drop(['antecedent support','consequent support'],axis=1,inplace=False)"
   ]
  },
  {
   "cell_type": "markdown",
   "id": "4da774ee",
   "metadata": {},
   "source": [
    "## 结果分析与应用\n",
    "分析得到的关联规则，为网站提供导航结构优化建议，以提升用户体验<br>\n",
    "可以将（Internet Explorer，/ie）的Vroot和（Free Downloads,\"/msdownload\"）相互关联；<br>\n",
    "将（Support Desktop，/support）和（Knowledge Base，/kb）相互关联；<br>\n",
    "实现以下导航：（Support Desktop，/support）=>（isapi，/isapi）=>（Free Downloads，/msdownload）<br>\n",
    "都将提升用户体验"
   ]
  },
  {
   "cell_type": "markdown",
   "id": "aa75ff9d",
   "metadata": {},
   "source": [
    "## 可视化\n",
    "### 置信度-支持度散点图"
   ]
  },
  {
   "cell_type": "code",
   "execution_count": 7,
   "id": "d5dd7a79",
   "metadata": {},
   "outputs": [
    {
     "data": {
      "image/png": "[encoded data removed]",
      "text/plain": [
       "<Figure size 432x288 with 1 Axes>"
      ]
     },
     "metadata": {
      "needs_background": "light"
     },
     "output_type": "display_data"
    }
   ],
   "source": [
    "from matplotlib import pyplot as plt\n",
    "plt.xlabel('support')\n",
    "plt.ylabel('confidence')\n",
    "for i in range(rules.shape[0]):\n",
    "    plt.scatter(rules.support[i],rules.confidence[i],c='r')"
   ]
  },
  {
   "cell_type": "markdown",
   "id": "880926c4",
   "metadata": {},
   "source": [
    "### 支持度-提升度散点图"
   ]
  },
  {
   "cell_type": "code",
   "execution_count": 8,
   "id": "9c1bd204",
   "metadata": {},
   "outputs": [
    {
     "data": {
      "image/png": "[encoded data removed]",
      "text/plain": [
       "<Figure size 432x288 with 1 Axes>"
      ]
     },
     "metadata": {
      "needs_background": "light"
     },
     "output_type": "display_data"
    }
   ],
   "source": [
    "plt.xlabel('support')\n",
    "plt.ylabel('lift')\n",
    "for i in range(rules.shape[0]):\n",
    "    plt.scatter(rules.support[i],rules.lift[i],c='r')"
   ]
  },
  {
   "cell_type": "code",
   "execution_count": null,
   "id": "389e911c",
   "metadata": {},
   "outputs": [],
   "source": []
  }
 ],
 "metadata": {
  "kernelspec": {
   "display_name": "Python 3 (ipykernel)",
   "language": "python",
   "name": "python3"
  },
  "language_info": {
   "codemirror_mode": {
    "name": "ipython",
    "version": 3
   },
   "file_extension": ".py",
   "mimetype": "text/x-python",
   "name": "python",
   "nbconvert_exporter": "python",
   "pygments_lexer": "ipython3",
   "version": "3.9.12"
  }
 },
 "nbformat": 4,
 "nbformat_minor": 5
}
